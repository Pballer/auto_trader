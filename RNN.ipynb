{
  "nbformat": 4,
  "nbformat_minor": 0,
  "metadata": {
    "kernelspec": {
      "display_name": "Python 3",
      "language": "python",
      "name": "python3"
    },
    "language_info": {
      "codemirror_mode": {
        "name": "ipython",
        "version": 3
      },
      "file_extension": ".py",
      "mimetype": "text/x-python",
      "name": "python",
      "nbconvert_exporter": "python",
      "pygments_lexer": "ipython3",
      "version": "3.7.5"
    },
    "colab": {
      "name": "RNN.ipynb",
      "provenance": [],
      "include_colab_link": true
    }
  },
  "cells": [
    {
      "cell_type": "markdown",
      "metadata": {
        "id": "view-in-github",
        "colab_type": "text"
      },
      "source": [
        "<a href=\"https://colab.research.google.com/github/Pballer/auto_trader/blob/colab/RNN.ipynb\" target=\"_parent\"><img src=\"https://colab.research.google.com/assets/colab-badge.svg\" alt=\"Open In Colab\"/></a>"
      ]
    },
    {
      "cell_type": "code",
      "metadata": {
        "id": "zLjhM7ZdQYlw",
        "colab_type": "code",
        "colab": {}
      },
      "source": [
        "import tensorflow.keras as keras\n",
        "import numpy as np\n",
        "import seaborn as sns"
      ],
      "execution_count": 0,
      "outputs": []
    },
    {
      "cell_type": "markdown",
      "metadata": {
        "id": "EAOuIndTQYl2",
        "colab_type": "text"
      },
      "source": [
        "# Intro Guide to RNN timeseries prediction"
      ]
    },
    {
      "cell_type": "code",
      "metadata": {
        "id": "ffdB9zyuQYl3",
        "colab_type": "code",
        "colab": {}
      },
      "source": [
        "def generate_time_series(batch_size, n_steps):\n",
        "    freq1, freq2, offsets1, offsets2 = np.random.rand(4, batch_size, 1)\n",
        "    time = np.linspace(0, 1, n_steps)\n",
        "    series = 0.5 * np.sin((time - offsets1) * (freq1 * 10 + 10))  #   wave 1\n",
        "    series += 0.2 * np.sin((time - offsets2) * (freq2 * 20 + 20)) # + wave 2\n",
        "    series += 0.1 * (np.random.rand(batch_size, n_steps) - 0.5)   # + noise\n",
        "    return series[..., np.newaxis].astype(np.float32)"
      ],
      "execution_count": 0,
      "outputs": []
    },
    {
      "cell_type": "code",
      "metadata": {
        "id": "CyVVRzzmQYl5",
        "colab_type": "code",
        "colab": {}
      },
      "source": [
        "n_steps = 50\n",
        "series = generate_time_series(10000, n_steps + 1)\n",
        "X_train, y_train = series[:7000, :n_steps], series[:7000, -1]\n",
        "X_valid, y_valid = series[7000:9000, :n_steps], series[7000:9000, -1]\n",
        "X_test, y_test = series[9000:, :n_steps], series[9000:, -1]"
      ],
      "execution_count": 0,
      "outputs": []
    },
    {
      "cell_type": "code",
      "metadata": {
        "id": "MHSQTvlUQYl9",
        "colab_type": "code",
        "colab": {
          "base_uri": "https://localhost:8080/",
          "height": 265
        },
        "outputId": "d8935f49-97ee-4b26-dfe8-1a21c2f8008e"
      },
      "source": [
        "sns.lineplot(data=series[0]);"
      ],
      "execution_count": 12,
      "outputs": [
        {
          "output_type": "display_data",
          "data": {
            "image/png": "[encoded data removed]",
            "text/plain": [
              "<Figure size 432x288 with 1 Axes>"
            ]
          },
          "metadata": {
            "tags": []
          }
        }
      ]
    },
    {
      "cell_type": "code",
      "metadata": {
        "id": "-bXLD0IfQYmB",
        "colab_type": "code",
        "colab": {},
        "outputId": "ccdd11e4-6634-4ffa-fb04-93b89292a6ea"
      },
      "source": [
        "# [batch size, time steps, dimensionality], \n",
        "# where dimensionality is 1 for univariate time series and more for multivariate time series.\n",
        "X_train.shape"
      ],
      "execution_count": 0,
      "outputs": [
        {
          "output_type": "execute_result",
          "data": {
            "text/plain": [
              "(7000, 50, 1)"
            ]
          },
          "metadata": {
            "tags": []
          },
          "execution_count": 5
        }
      ]
    },
    {
      "cell_type": "markdown",
      "metadata": {
        "id": "Y1VvuSyZQYmE",
        "colab_type": "text"
      },
      "source": [
        "### Naive approach: T-1 prediciton"
      ]
    },
    {
      "cell_type": "code",
      "metadata": {
        "id": "LB8WRCCtQYmE",
        "colab_type": "code",
        "colab": {},
        "outputId": "fba97fa0-07c7-4e0b-de41-99d206dab65a"
      },
      "source": [
        "y_pred = X_valid[:, -1]\n",
        "np.mean(keras.losses.mean_squared_error(y_valid, y_pred))"
      ],
      "execution_count": 0,
      "outputs": [
        {
          "output_type": "execute_result",
          "data": {
            "text/plain": [
              "0.021341251"
            ]
          },
          "metadata": {
            "tags": []
          },
          "execution_count": 6
        }
      ]
    },
    {
      "cell_type": "markdown",
      "metadata": {
        "id": "0QobG4waQYmH",
        "colab_type": "text"
      },
      "source": [
        "### Naive approach: Linear Model"
      ]
    },
    {
      "cell_type": "code",
      "metadata": {
        "id": "Nye52RGnQYmI",
        "colab_type": "code",
        "colab": {}
      },
      "source": [
        "keras.backend.clear_session()\n",
        "model = keras.models.Sequential([\n",
        "    keras.layers.Flatten(input_shape=[50, 1]),\n",
        "    keras.layers.Dense(1)\n",
        "])"
      ],
      "execution_count": 0,
      "outputs": []
    },
    {
      "cell_type": "code",
      "metadata": {
        "id": "tE2NzqL5QYmL",
        "colab_type": "code",
        "colab": {}
      },
      "source": [
        "model.compile(optimizer='adam', loss='mse')"
      ],
      "execution_count": 0,
      "outputs": []
    },
    {
      "cell_type": "code",
      "metadata": {
        "collapsed": true,
        "id": "jJUmsZ4AQYmO",
        "colab_type": "code",
        "colab": {},
        "outputId": "3091bffe-3d82-4b69-bdb5-ab08d0792a88"
      },
      "source": [
        "history = model.fit(X_train, y_train, epochs=20)"
      ],
      "execution_count": 0,
      "outputs": [
        {
          "output_type": "stream",
          "text": [
            "Train on 7000 samples\n",
            "Epoch 1/20\n",
            "7000/7000 [==============================] - 1s 204us/sample - loss: 0.1815\n",
            "Epoch 2/20\n",
            "7000/7000 [==============================] - 1s 72us/sample - loss: 0.0349\n",
            "Epoch 3/20\n",
            "7000/7000 [==============================] - 1s 74us/sample - loss: 0.0125\n",
            "Epoch 4/20\n",
            "7000/7000 [==============================] - 1s 74us/sample - loss: 0.0077\n",
            "Epoch 5/20\n",
            "7000/7000 [==============================] - 1s 73us/sample - loss: 0.00650s - loss: 0\n",
            "Epoch 6/20\n",
            "7000/7000 [==============================] - 1s 75us/sample - loss: 0.0059\n",
            "Epoch 7/20\n",
            "7000/7000 [==============================] - 1s 74us/sample - loss: 0.0056\n",
            "Epoch 8/20\n",
            "7000/7000 [==============================] - 1s 75us/sample - loss: 0.0052\n",
            "Epoch 9/20\n",
            "7000/7000 [==============================] - 1s 93us/sample - loss: 0.0049\n",
            "Epoch 10/20\n",
            "7000/7000 [==============================] - 1s 87us/sample - loss: 0.0047\n",
            "Epoch 11/20\n",
            "7000/7000 [==============================] - 1s 74us/sample - loss: 0.0045\n",
            "Epoch 12/20\n",
            "7000/7000 [==============================] - 1s 76us/sample - loss: 0.0043\n",
            "Epoch 13/20\n",
            "7000/7000 [==============================] - 1s 100us/sample - loss: 0.0042\n",
            "Epoch 14/20\n",
            "7000/7000 [==============================] - 1s 94us/sample - loss: 0.00410s - loss:\n",
            "Epoch 15/20\n",
            "7000/7000 [==============================] - 1s 91us/sample - loss: 0.0040\n",
            "Epoch 16/20\n",
            "7000/7000 [==============================] - 1s 73us/sample - loss: 0.0039\n",
            "Epoch 17/20\n",
            "7000/7000 [==============================] - 1s 92us/sample - loss: 0.0038\n",
            "Epoch 18/20\n",
            "7000/7000 [==============================] - 1s 83us/sample - loss: 0.0037\n",
            "Epoch 19/20\n",
            "7000/7000 [==============================] - 1s 86us/sample - loss: 0.0037\n",
            "Epoch 20/20\n",
            "7000/7000 [==============================] - 1s 77us/sample - loss: 0.0036\n"
          ],
          "name": "stdout"
        },
        {
          "output_type": "execute_result",
          "data": {
            "text/plain": [
              "<tensorflow.python.keras.callbacks.History at 0x6427f6990>"
            ]
          },
          "metadata": {
            "tags": []
          },
          "execution_count": 81
        }
      ]
    },
    {
      "cell_type": "code",
      "metadata": {
        "collapsed": true,
        "id": "VIyrhB18QYmR",
        "colab_type": "code",
        "colab": {},
        "outputId": "83f21c66-355c-410e-d574-6c7409a4406e"
      },
      "source": [
        "score = model.evaluate(X_test, y_test)"
      ],
      "execution_count": 0,
      "outputs": [
        {
          "output_type": "stream",
          "text": [
            "\r1000/1 [================================================================================================================================================================================================================================================================================================================================================================================================================================================================================================================================================================================================================================================================================================================================================================================================================================================================================================================================================================================================================================================================================================================================================================================================================================================================================================================================================================================================================================================================================================================================================================================================================================================================================================================================================================================================================================================================================================================================================================================================================================================================================================================================================================================================================================================================================================================================================================================================================================================================================================================================================================================================================================================================================================================================================================================================================================================================================================================================================================================================================================================================================================================================================================================================================================================================================================================================================================================================================================================================================================================================================================================================================================================================================================================================================================================================================================================================================================================================================================================================================================================================================================================================================================================================================================================================================================================================================================================================================================================================================================================================================================================================================================================================================================================================================================================================================================================================================================================================================================================================================================================================================================================================================================================================================================================================================================================================================================================================================================================================================================================================================================================================================================================================================================================================================================================================================================================================================================================================================================================================================================================================================================================================================================================================================================================================================================================================================================================================================================================================================================================================================================================================================================================================================================================================================================================================================================================================================================================================================================================================================================================================================================================================================================================================================================================================================================================================================================================================================================================================================================================================================================================================================================================================================================================================================================================================================================================================================================================================================================================================================================================================================================================================================================================================================================================================================================================================================================================================================================================================================================================================================================================================================================================================================================================================================================================================================================================================================================================================================================================================================================================================================================================================================================================================================================================================================================================================================================================================================================================================================================================================================================================================================================================================================================================================================================================================================================================================================================================================================================================================================================================================================================================================================================================================================================================================================================================================================================================================================================================================================================================================================================================================================================================================================================================================================================================================================================================================================================================================================================================================================================================================================================================================================================================================================================================================================================================================================================================================================================================================================================================================================================================================================================================================================================================================================================================================================================================================================================================================================================================================================================================================================================================================================================================================================================================================================================================================================================================================================================================================================================================================================================================================================================================================================================================================================================================================================================================================================================================================================================================================================================================================================================================================================================================================================================================================================================================================================================================================================================================================================================================================================================================================================================================================================================================================================================================================================================================================================================================================================================================================================================================================================================================================================================================================================================================================================================================================================================================================================================================================================================================================================================================================================================================================================================================================================================================================================================================================================================================================================================================================================================================================================================================================================================================================================================================================================================================================================================================================================================================================================================================================================================================================================================================================================================================================================================================================================================================================================================================================================================================================================================================================================================================================================================================================================================================================================================================================================================================================================================================================================================================================================================================================================================================================================================================================================================================================================================================================================================================================================================================================================================================================================================================================================================================================================================================================================================================================================================================================================================================================================================================================================================================================================================================================================================================================================================================================================================================================================================================================================================================================================================================================================================================================================================================================================================================================================================================================================================================================================================================================================================================================================================================================================================================================================================================================================================================================================================================================================================================================================================================================================================================================================================================================================================================================================================================================================================================================================================================================================================================================================================================================================================================================================================================================================================================================================================================================================================================================================================================================================================================================================================================================================================================================================================================================================================================================================================================================================================================================================================================================================================================================================================================================================================================================================================================================================================================================================================================================================================================================================================================================================================================================================================================================================================================================================================================================================================================================================================================================================================================================================================================================================================================================================================================================================================================================================================================================================================================================================================================================================================================================================================================================================================================================================================================================================================================================================================================================================================================================================================================================================================================================================================================================================================================================================================================================================================================================================================================================================================================================================================================================================================================================================================================================================================================================================================================================================================================================================================================================================================================================================================================================================================================================================================================================================================================================================================================================================================================================================================================================================================================================================================================================================================================================================================================================================================================================================================================================================================================================================================================================================================================================================================================================================================================================================================================================================================================================================================================================================================================================================================================================================================================================================================================================================================================================================================================================================================================================================================================================================================================================================================================================================================================================================================================================================================================================================================================================================================================================================================================================================================================================================================================================================================================================================================================================================================================================================================================================================================================================================================================================================================================================================================================================================================================================================================================================================================================================================================================================================================================================================================================================================================================================================================================================================================================================================================================================================================================================================================================================================================================================================================================================================================================================================================================================================================================================================================================================================================================================================================================================================================================================================================================================================================================================================================================================================================================================================================================================================================================================================================================================================================================================================================================================================================================================================================================================================================================================================================================================================================================================================================================================================================================================================================================================================================================================================================================================================================================================================================================================================================================================================================================================================================================================================================================================================================================================================================================================================================================================================================================================================================================================================================================================================================================================================================================================================================================================================================================================================================================================================================================================================================================================================================================================================================================================================================================================================================================================================================================================================================================================================================================================================================================================================================================================================================================================================================================] - 0s 153us/sample - loss: 0.0027\n"
          ],
          "name": "stdout"
        }
      ]
    },
    {
      "cell_type": "code",
      "metadata": {
        "id": "ytH5GFZvQYmU",
        "colab_type": "code",
        "colab": {},
        "outputId": "e1aac07f-1a24-4416-9b62-90203f2f0b74"
      },
      "source": [
        "score"
      ],
      "execution_count": 0,
      "outputs": [
        {
          "output_type": "execute_result",
          "data": {
            "text/plain": [
              "0.003516263984143734"
            ]
          },
          "metadata": {
            "tags": []
          },
          "execution_count": 85
        }
      ]
    },
    {
      "cell_type": "markdown",
      "metadata": {
        "id": "q-lAFLvMQYmW",
        "colab_type": "text"
      },
      "source": [
        "### Simple RNN"
      ]
    },
    {
      "cell_type": "code",
      "metadata": {
        "id": "SBoRX9wYQYmX",
        "colab_type": "code",
        "colab": {}
      },
      "source": [
        "keras.backend.clear_session()\n",
        "rnn_model = keras.models.Sequential([\n",
        "    keras.layers.SimpleRNN(1, input_shape=[None, 1])\n",
        "])"
      ],
      "execution_count": 0,
      "outputs": []
    },
    {
      "cell_type": "code",
      "metadata": {
        "id": "-pormomEQYmZ",
        "colab_type": "code",
        "colab": {}
      },
      "source": [
        "rnn_model.compile(optimizer='adam', loss='mse')"
      ],
      "execution_count": 0,
      "outputs": []
    },
    {
      "cell_type": "code",
      "metadata": {
        "collapsed": true,
        "id": "okyvUBeTQYmd",
        "colab_type": "code",
        "colab": {},
        "outputId": "ada66716-df23-43f2-c8e1-971f11de3a21"
      },
      "source": [
        "history = rnn_model.fit(X_train, y_train, epochs=20)"
      ],
      "execution_count": 0,
      "outputs": [
        {
          "output_type": "stream",
          "text": [
            "Train on 7000 samples\n",
            "Epoch 1/20\n",
            "7000/7000 [==============================] - 11s 2ms/sample - loss: 0.0687\n",
            "Epoch 2/20\n",
            "7000/7000 [==============================] - 9s 1ms/sample - loss: 0.0479\n",
            "Epoch 3/20\n",
            "7000/7000 [==============================] - 9s 1ms/sample - loss: 0.0324\n",
            "Epoch 4/20\n",
            "7000/7000 [==============================] - 10s 1ms/sample - loss: 0.0217\n",
            "Epoch 5/20\n",
            "7000/7000 [==============================] - 9s 1ms/sample - loss: 0.0157\n",
            "Epoch 6/20\n",
            "7000/7000 [==============================] - 10s 1ms/sample - loss: 0.0131\n",
            "Epoch 7/20\n",
            "7000/7000 [==============================] - 10s 1ms/sample - loss: 0.0123\n",
            "Epoch 8/20\n",
            "7000/7000 [==============================] - 10s 1ms/sample - loss: 0.0120\n",
            "Epoch 9/20\n",
            "7000/7000 [==============================] - 9s 1ms/sample - loss: 0.0119\n",
            "Epoch 10/20\n",
            "7000/7000 [==============================] - 9s 1ms/sample - loss: 0.0118\n",
            "Epoch 11/20\n",
            "7000/7000 [==============================] - 9s 1ms/sample - loss: 0.0116\n",
            "Epoch 12/20\n",
            "7000/7000 [==============================] - 9s 1ms/sample - loss: 0.0116\n",
            "Epoch 13/20\n",
            "7000/7000 [==============================] - 9s 1ms/sample - loss: 0.0115\n",
            "Epoch 14/20\n",
            "7000/7000 [==============================] - 9s 1ms/sample - loss: 0.0114\n",
            "Epoch 15/20\n",
            "7000/7000 [==============================] - 9s 1ms/sample - loss: 0.0114\n",
            "Epoch 16/20\n",
            "7000/7000 [==============================] - 9s 1ms/sample - loss: 0.0114\n",
            "Epoch 17/20\n",
            "7000/7000 [==============================] - 9s 1ms/sample - loss: 0.0113\n",
            "Epoch 18/20\n",
            "7000/7000 [==============================] - 9s 1ms/sample - loss: 0.0113\n",
            "Epoch 19/20\n",
            "7000/7000 [==============================] - 9s 1ms/sample - loss: 0.0113\n",
            "Epoch 20/20\n",
            "7000/7000 [==============================] - 9s 1ms/sample - loss: 0.0113\n"
          ],
          "name": "stdout"
        }
      ]
    },
    {
      "cell_type": "code",
      "metadata": {
        "collapsed": true,
        "id": "WVEOk0h6QYmf",
        "colab_type": "code",
        "colab": {},
        "outputId": "4443ff3b-7683-43d9-c784-b953fcc1a01b"
      },
      "source": [
        "score = rnn_model.evaluate(X_test, y_test)"
      ],
      "execution_count": 0,
      "outputs": [
        {
          "output_type": "stream",
          "text": [
            "\r1000/1 [================================================================================================================================================================================================================================================================================================================================================================================================================================================================================================================================================================================================================================================================================================================================================================================================================================================================================================================================================================================================================================================================================================================================================================================================================================================================================================================================================================================================================================================================================================================================================================================================================================================================================================================================================================================================================================================================================================================================================================================================================================================================================================================================================================================================================================================================================================================================================================================================================================================================================================================================================================================================================================================================================================================================================================================================================================================================================================================================================================================================================================================================================================================================================================================================================================================================================================================================================================================================================================================================================================================================================================================================================================================================================================================================================================================================================================================================================================================================================================================================================================================================================================================================================================================================================================================================================================================================================================================================================================================================================================================================================================================================================================================================================================================================================================================================================================================================================================================================================================================================================================================================================================================================================================================================================================================================================================================================================================================================================================================================================================================================================================================================================================================================================================================================================================================================================================================================================================================================================================================================================================================================================================================================================================================================================================================================================================================================================================================================================================================================================================================================================================================================================================================================================================================================================================================================================================================================================================================================================================================================================================================================================================================================================================================================================================================================================================================================================================================================================================================================================================================================================================================================================================================================================================================================================================================================================================================================================================================================================================================================================================================================================================================================================================================================================================================================================================================================================================================================================================================================================================================================================================================================================================================================================================================================================================================================================================================================================================================================================================================================================================================================================================================================================================================================================================================================================================================================================================================================================================================================================================================================================================================================================================================================================================================================================================================================================================================================================================================================================================================================================================================================================================================================================================================================================================================================================================================================================================================================================================================================================================================================================================================================================================================================================================================================================================================================================================================================================================================================================================================================================================================================================================================================================================================================================================================================================================================================================================================================================================================================================================================================================================================================================================================================================================================================================================================================================================================================================================================================================================================================================================================================================================================================================================================================================================================================================================================================================================================================================================================================================================================================================================================================================================================================================================================================================================================================================================================================================================================================================================================================================================================================================================================================================================================================================================================================================================================================================================================================================================================================================================================================================================================================================================================================================================================================================================================================================================================================================================================================================================================================================================================================================================================================================================================================================================================================================================================================================================================================================================================================================================================================================================================================================================================================================================================================================================================================================================================================================================================================================================================================================================================================================================================================================================================================================================================================================================================================================================================================================================================================================================================================================================================================================================================================================================================================================================================================================================================================================================================================================================================================================================================================================================================================================================================================================================================================================================================================================================================================================================================================================================================================================================================================================================================================================================================================================================================================================================================================================================================================================================================================================================================================================================================================================================================================================================================================================================================================================================================================================================================================================================================================================================================================================================================================================================================================================================================================================================================================================================================================================================================================================================================================================================================================================================================================================================================================================================================================================================================================================================================================================================================================================================================================================================================================================================================================================================================================================================================================================================================================================================================================================================================================================================================================================================================================================================================================================================================================================================================================================================================================================================================================================================================================================================================================================================================================================================================================================================================================================================================================================================================================================================================================================================================================================================================================================================================================================================================================================================================================================================================================================================================================================================================================================================================================================================================================================================================================================================================================================================================================================================================================================================================================================================================================================================================================================================================================================================================================================================================================================================================================================================================================================================================================================================================================================================================================================================================================================================================================================================================================================================================================================================================================================================================================================================================================================================================================================================================================================================================================================================================================================================================================================================================================================================================================================================================================================================================================================================================================================================================================================================================================================================================================================================================================================================================================================================================================================================================================================================================================================================================================================================================================================================================================================================================================================================================================================================================================================================================================================================================================================================================================================================================================================================================================================================================================================================================================================================================================================================================================================================================================================================================================================================================================================================================================================================================================================================================================================================================================================================================================================================================================================================================================================================================================================================================================================================================================================================================================================================================================================================================================================================================================================================================================================================================================================================================================================================================================================================================================================================================================================================================================================================================================================================================================================================================================================================================================================================================================================================================================================================================================================================================================================================================================================================================================================================================================================================================================================================================================================================================================================================================================================================================================================================================================================================================================================================================================================================================================================================================================================================================================================================================================================================================================================================================================================================================================================================================================================================================================================================================================================================================================================================================================================================================================================================================================================================================================================================================================================================================================================================================================================================================================================================================================================================================================================================================================================================================================================================================================================================================================================================================================================================================================================================================================================================================================================================================================================================================================================================================================================================================================================================================================================================================================================================================================================================================================================================================================================================================================================================================================================================================================================================================================================================================================================================================================================================================================================================================================================================================================================================================================================================================================================================================================================================================================================================================================================================================================================================================================================================================================================================================================================================================================================================================================================================================================================================================] - 1s 992us/sample - loss: 0.0070\n"
          ],
          "name": "stdout"
        }
      ]
    },
    {
      "cell_type": "markdown",
      "metadata": {
        "id": "e4lagfNQQYmi",
        "colab_type": "text"
      },
      "source": [
        "#### Better than naive T-1, but still worse than linear model"
      ]
    },
    {
      "cell_type": "code",
      "metadata": {
        "id": "Ivlx6V6kQYmj",
        "colab_type": "code",
        "colab": {},
        "outputId": "b3657216-efea-4c67-adef-1309a303f1ab"
      },
      "source": [
        "score"
      ],
      "execution_count": 0,
      "outputs": [
        {
          "output_type": "execute_result",
          "data": {
            "text/plain": [
              "0.010483284590765835"
            ]
          },
          "metadata": {
            "tags": []
          },
          "execution_count": 11
        }
      ]
    },
    {
      "cell_type": "markdown",
      "metadata": {
        "id": "xcWKVn4wQYmm",
        "colab_type": "text"
      },
      "source": [
        "### Multiple RNN Layers"
      ]
    },
    {
      "cell_type": "code",
      "metadata": {
        "id": "1G5BthVHQYmn",
        "colab_type": "code",
        "colab": {}
      },
      "source": [
        "keras.backend.clear_session()\n",
        "model = keras.models.Sequential([\n",
        "    keras.layers.SimpleRNN(20, return_sequences=True, input_shape=[None, 1]),\n",
        "    keras.layers.SimpleRNN(20, return_sequences=True),\n",
        "    keras.layers.SimpleRNN(1)\n",
        "])"
      ],
      "execution_count": 0,
      "outputs": []
    },
    {
      "cell_type": "code",
      "metadata": {
        "id": "06BPCQEeQYmp",
        "colab_type": "code",
        "colab": {}
      },
      "source": [
        "model.compile(optimizer='adam', loss='mse')"
      ],
      "execution_count": 0,
      "outputs": []
    },
    {
      "cell_type": "code",
      "metadata": {
        "id": "rQxGJbuAQYmu",
        "colab_type": "code",
        "colab": {
          "base_uri": "https://localhost:8080/",
          "height": 714
        },
        "outputId": "f1102cc4-0f9c-4cb3-cc9d-b63c48c3dde9"
      },
      "source": [
        "history = model.fit(X_train, y_train, epochs=20)"
      ],
      "execution_count": 15,
      "outputs": [
        {
          "output_type": "stream",
          "text": [
            "Train on 7000 samples\n",
            "Epoch 1/20\n",
            "7000/7000 [==============================] - 10s 1ms/sample - loss: 0.0370\n",
            "Epoch 2/20\n",
            "7000/7000 [==============================] - 7s 973us/sample - loss: 0.0060\n",
            "Epoch 3/20\n",
            "7000/7000 [==============================] - 7s 945us/sample - loss: 0.0050\n",
            "Epoch 4/20\n",
            "7000/7000 [==============================] - 7s 938us/sample - loss: 0.0043\n",
            "Epoch 5/20\n",
            "7000/7000 [==============================] - 7s 937us/sample - loss: 0.0040\n",
            "Epoch 6/20\n",
            "7000/7000 [==============================] - 7s 982us/sample - loss: 0.0037\n",
            "Epoch 7/20\n",
            "7000/7000 [==============================] - 7s 970us/sample - loss: 0.0036\n",
            "Epoch 8/20\n",
            "7000/7000 [==============================] - 7s 958us/sample - loss: 0.0037\n",
            "Epoch 9/20\n",
            "7000/7000 [==============================] - 6s 904us/sample - loss: 0.0035\n",
            "Epoch 10/20\n",
            "7000/7000 [==============================] - 7s 965us/sample - loss: 0.0036\n",
            "Epoch 11/20\n",
            "7000/7000 [==============================] - 8s 1ms/sample - loss: 0.0033\n",
            "Epoch 12/20\n",
            "7000/7000 [==============================] - 7s 991us/sample - loss: 0.0034\n",
            "Epoch 13/20\n",
            "7000/7000 [==============================] - 7s 966us/sample - loss: 0.0033\n",
            "Epoch 14/20\n",
            "7000/7000 [==============================] - 7s 970us/sample - loss: 0.0032\n",
            "Epoch 15/20\n",
            "7000/7000 [==============================] - 7s 976us/sample - loss: 0.0033\n",
            "Epoch 16/20\n",
            "7000/7000 [==============================] - 7s 953us/sample - loss: 0.0031\n",
            "Epoch 17/20\n",
            "7000/7000 [==============================] - 7s 979us/sample - loss: 0.0032\n",
            "Epoch 18/20\n",
            "7000/7000 [==============================] - 7s 991us/sample - loss: 0.0031\n",
            "Epoch 19/20\n",
            "7000/7000 [==============================] - 7s 980us/sample - loss: 0.0032\n",
            "Epoch 20/20\n",
            "7000/7000 [==============================] - 7s 977us/sample - loss: 0.0031\n"
          ],
          "name": "stdout"
        }
      ]
    },
    {
      "cell_type": "code",
      "metadata": {
        "id": "gjWg9Qf3QYm1",
        "colab_type": "code",
        "colab": {
          "base_uri": "https://localhost:8080/",
          "height": 54
        },
        "outputId": "7df12504-8d3b-4303-e2a2-c1ee23042bdd"
      },
      "source": [
        "score = model.evaluate(X_test, y_test)"
      ],
      "execution_count": 16,
      "outputs": [
        {
          "output_type": "stream",
          "text": [
            "\r1000/1 [================================================================================================================================================================================================================================================================================================================================================================================================================================================================================================================================================================================================================================================================================================================================================================================================================================================================================================================================================================================================================================================================================================================================================================================================================================================================================================================================================================================================================================================================================================================================================================================================================================================================================================================================================================================================================================================================================================================================================================================================================================================================================================================================================================================================================================================================================================================================================================================================================================================================================================================================================================================================================================================================================================================================================================================================================================================================================================================================================================================================================================================================================================================================================================================================================================================================================================================================================================================================================================================================================================================================================================================================================================================================================================================================================================================================================================================================================================================================================================================================================================================================================================================================================================================================================================================================================================================================================================================================================================================================================================================================================================================================================================================================================================================================================================================================================================================================================================================================================================================================================================================================================================================================================================================================================================================================================================================================================================================================================================================================================================================================================================================================================================================================================================================================================================================================================================================================================================================================================================================================================================================================================================================================================================================================================================================================================================================================================================================================================================================================================================================================================================================================================================================================================================================================================================================================================================================================================================================================================================================================================================================================================================================================================================================================================================================================================================================================================================================================================================================================================================================================================================================================================================================================================================================================================================================================================================================================================================================================================================================================================================================================================================================================================================================================================================================================================================================================================================================================================================================================================================================================================================================================================================================================================================================================================================================================================================================================================================================================================================================================================================================================================================================================================================================================================================================================================================================================================================================================================================================================================================================================================================================================================================================================================================================================================================================================================================================================================================================================================================================================================================================================================================================================================================================================================================================================================================================================================================================================================================================================================================================================================================================================================================================================================================================================================================================================================================================================================================================================================================================================================================================================================================================================================================================================================================================================================================================================================================================================================================================================================================================================================================================================================================================================================================================================================================================================================================================================================================================================================================================================================================================================================================================================================================================================================================================================================================================================================================================================================================================================================================================================================================================================================================================================================================================================================================================================================================================================================================================================================================================================================================================================================================================================================================================================================================================================================================================================================================================================================================================================================================================================================================================================================================================================================================================================================================================================================================================================================================================================================================================================================================================================================================================================================================================================================================================================================================================================================================================================================================================================================================================================================================================================================================================================================================================================================================================================================================================================================================================================================================================================================================================================================================================================================================================================================================================================================================================================================================================================================================================================================================================================================================================================================================================================================================================================================================================================================================================================================================================================================================================================================================================================================================================================================================================================================================================================================================================================================================================================================================================================================================================================================================================================================================================================================================================================================================================================================================================================================================================================================================================================================================================================================================================================================================================================================================================================================================================================================================================================================================================================================================================================================================================================================================================================================================================================================================================================================================================================================================================================================================================================================================================================================================================================================================================================================================================================================================================================================================================================================================================================================================================================================================================================================================================================================================================================================================================================================================================================================================================================================================================================================================================================================================================================================================================================================================================================================================================================================================================================================================================================================================================================================================================================================================================================================================================================================================================================================================================================================================================================================================================================================================================================================================================================================================================================================================================================================================================================================================================================================================================================================================================================================================================================================================================================================================================================================================================================================================================================================================================================================================================================================================================================================================================================================================================================================================================================================================================================================================================================================================================================================================================================================================================================================================================================================================================================================================================================================================================================================================================================================================================================================================================================================================================================================================================================================================================================================================================================================================================================================================================================================================================================================================================================================================================================================================================================================================================================================================================================================================================================================================================================================================================================================================================================================================================================================================================================================================================================================================================================================================================================================================================================================================================================================================================================================================================================================================================================================================================================================================================================================================================================================================================================================================================================================================================================================================================================================================================================================================================================================================================================================================================================================================================================================================================================================================================================================================================================================================================================================================================================================================================================================================================================================================================================================================================================================================================================================================================================================================================================================================================================================================================================================================================================================================================================================================================================================================================================================================================================================================================================================================================================================================================================================================================================================================================================================================================================================================================================================================================================================================================================================================================================================================================================================================================================================================================================================================================================================================================================================================================================================================================================================================================================================================================================================================================================================================================================================================================================================================================================================================================================================================================================================================================================================================================================================================================================================================================================================================================================================================================================================================================================================================================================================================================================================================================================================================================================================================================================================================================================================================================================================================================================================================================================================================================================================================================================================================================================================================================================================================================================================================================================================================================================================================================================================================================================================================================================================================================================================================================================================================================================================================================================================================================================================================================================================================================================================================================================================================================================================================================================================================================================================================================================================================================================================================================================================================================================================================================================================================================================================================================================================================================================================================================================================================================================================================================================================================================================================================================================================================================================================================================================================================================================================================================================================================================================================================================] - 1s 605us/sample - loss: 0.0020\n"
          ],
          "name": "stdout"
        }
      ]
    },
    {
      "cell_type": "code",
      "metadata": {
        "id": "WUeuJUBMZeKr",
        "colab_type": "code",
        "colab": {
          "base_uri": "https://localhost:8080/",
          "height": 34
        },
        "outputId": "60acee48-44b4-413d-dd98-5cbab0a1ed5a"
      },
      "source": [
        "score"
      ],
      "execution_count": 17,
      "outputs": [
        {
          "output_type": "execute_result",
          "data": {
            "text/plain": [
              "0.003019924949388951"
            ]
          },
          "metadata": {
            "tags": []
          },
          "execution_count": 17
        }
      ]
    },
    {
      "cell_type": "code",
      "metadata": {
        "id": "mXhnR25IZfD2",
        "colab_type": "code",
        "colab": {}
      },
      "source": [
        "series = generate_time_series(1, n_steps + 10)\n",
        "X_new, Y_new = series[:, :n_steps], series[:, n_steps:]\n",
        "X = X_new\n",
        "for step_ahead in range(10):\n",
        "    y_pred_one = model.predict(X[:, step_ahead:])[:, np.newaxis, :]\n",
        "    X = np.concatenate([X, y_pred_one], axis=1)\n",
        "\n",
        "Y_pred = X[:, n_steps:]"
      ],
      "execution_count": 0,
      "outputs": []
    },
    {
      "cell_type": "code",
      "metadata": {
        "id": "beynzzh9aIjZ",
        "colab_type": "code",
        "colab": {
          "base_uri": "https://localhost:8080/",
          "height": 34
        },
        "outputId": "9a9b223c-b875-49c6-b63e-a6dc48c46eb3"
      },
      "source": [
        "np.mean(keras.losses.mean_squared_error(Y_new, Y_pred))"
      ],
      "execution_count": 23,
      "outputs": [
        {
          "output_type": "execute_result",
          "data": {
            "text/plain": [
              "0.032001544"
            ]
          },
          "metadata": {
            "tags": []
          },
          "execution_count": 23
        }
      ]
    },
    {
      "cell_type": "code",
      "metadata": {
        "id": "8bWYPqDoaXvm",
        "colab_type": "code",
        "colab": {}
      },
      "source": [
        ""
      ],
      "execution_count": 0,
      "outputs": []
    }
  ]
}